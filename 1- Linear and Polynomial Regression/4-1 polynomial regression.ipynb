{
 "cells": [
  {
   "cell_type": "code",
   "execution_count": 1,
   "id": "34f34867",
   "metadata": {},
   "outputs": [],
   "source": [
    "import numpy as np\n",
    "import pandas as pd\n",
    "import matplotlib.pyplot as plt\n",
    "import seaborn as sns"
   ]
  },
  {
   "cell_type": "code",
   "execution_count": 3,
   "id": "f700f542",
   "metadata": {},
   "outputs": [],
   "source": [
    "df = pd.read_csv('J:/Data science/ML/Pyhon for ML/3.1 UNZIP_ME_FOR_NOTEBOOKS_V4/DATA/Advertising.csv')"
   ]
  },
  {
   "cell_type": "code",
   "execution_count": 4,
   "id": "d4a7d0a1",
   "metadata": {},
   "outputs": [
    {
     "data": {
      "text/html": [
       "<div>\n",
       "<style scoped>\n",
       "    .dataframe tbody tr th:only-of-type {\n",
       "        vertical-align: middle;\n",
       "    }\n",
       "\n",
       "    .dataframe tbody tr th {\n",
       "        vertical-align: top;\n",
       "    }\n",
       "\n",
       "    .dataframe thead th {\n",
       "        text-align: right;\n",
       "    }\n",
       "</style>\n",
       "<table border=\"1\" class=\"dataframe\">\n",
       "  <thead>\n",
       "    <tr style=\"text-align: right;\">\n",
       "      <th></th>\n",
       "      <th>TV</th>\n",
       "      <th>radio</th>\n",
       "      <th>newspaper</th>\n",
       "      <th>sales</th>\n",
       "    </tr>\n",
       "  </thead>\n",
       "  <tbody>\n",
       "    <tr>\n",
       "      <th>0</th>\n",
       "      <td>230.1</td>\n",
       "      <td>37.8</td>\n",
       "      <td>69.2</td>\n",
       "      <td>22.1</td>\n",
       "    </tr>\n",
       "    <tr>\n",
       "      <th>1</th>\n",
       "      <td>44.5</td>\n",
       "      <td>39.3</td>\n",
       "      <td>45.1</td>\n",
       "      <td>10.4</td>\n",
       "    </tr>\n",
       "    <tr>\n",
       "      <th>2</th>\n",
       "      <td>17.2</td>\n",
       "      <td>45.9</td>\n",
       "      <td>69.3</td>\n",
       "      <td>9.3</td>\n",
       "    </tr>\n",
       "    <tr>\n",
       "      <th>3</th>\n",
       "      <td>151.5</td>\n",
       "      <td>41.3</td>\n",
       "      <td>58.5</td>\n",
       "      <td>18.5</td>\n",
       "    </tr>\n",
       "    <tr>\n",
       "      <th>4</th>\n",
       "      <td>180.8</td>\n",
       "      <td>10.8</td>\n",
       "      <td>58.4</td>\n",
       "      <td>12.9</td>\n",
       "    </tr>\n",
       "  </tbody>\n",
       "</table>\n",
       "</div>"
      ],
      "text/plain": [
       "      TV  radio  newspaper  sales\n",
       "0  230.1   37.8       69.2   22.1\n",
       "1   44.5   39.3       45.1   10.4\n",
       "2   17.2   45.9       69.3    9.3\n",
       "3  151.5   41.3       58.5   18.5\n",
       "4  180.8   10.8       58.4   12.9"
      ]
     },
     "execution_count": 4,
     "metadata": {},
     "output_type": "execute_result"
    }
   ],
   "source": [
    "df.head()"
   ]
  },
  {
   "cell_type": "code",
   "execution_count": 5,
   "id": "1071da7e",
   "metadata": {},
   "outputs": [],
   "source": [
    "x = df.drop('sales',axis=1)"
   ]
  },
  {
   "cell_type": "code",
   "execution_count": 6,
   "id": "f4bd335c",
   "metadata": {},
   "outputs": [],
   "source": [
    "y = df['sales']"
   ]
  },
  {
   "cell_type": "markdown",
   "id": "1895d95e",
   "metadata": {},
   "source": [
    "**From Preprocessing, import PolynomialFeatures, which will help us transform our original data set by adding polynomial features**\n",
    "\n",
    "We will go from the equation in the form (shown here as if we only had one x feature):\n",
    "\n",
    "$$\\hat{y} = \\beta_0 + \\beta_1x_1 + \\epsilon $$\n",
    "\n",
    "and create more features from the original x feature for some *d* degree of polynomial.\n",
    "\n",
    "$$\\hat{y} = \\beta_0 + \\beta_1x_1 + \\beta_1x^2_1 +  ... + \\beta_dx^d_1 + \\epsilon$$\n",
    "\n",
    "Then we can call the linear regression model on it, since in reality, we're just treating these new polynomial features x^2, x^3, ... x^d as new features. Obviously we need to be careful about choosing the correct value of *d* , the degree of the model. Our metric results on the test set will help us with this!\n",
    "\n",
    "**The other thing to note here is we have multiple X features, not just a single one as in the formula above, so in reality, the PolynomialFeatures will also take *interaction* terms into account for example, if an input sample is two dimensional and of the form [a, b], the degree-2 polynomial features are [1, a, b, a^2, ab, b^2].**"
   ]
  },
  {
   "cell_type": "code",
   "execution_count": 7,
   "id": "92133896",
   "metadata": {},
   "outputs": [],
   "source": [
    "from sklearn.preprocessing import PolynomialFeatures"
   ]
  },
  {
   "cell_type": "code",
   "execution_count": 8,
   "id": "1ad406ba",
   "metadata": {},
   "outputs": [],
   "source": [
    "poly_converter = PolynomialFeatures(degree=2,include_bias=False)"
   ]
  },
  {
   "cell_type": "code",
   "execution_count": 9,
   "id": "1b37c76e",
   "metadata": {},
   "outputs": [],
   "source": [
    "poly_feature = poly_converter.fit_transform(x)"
   ]
  },
  {
   "cell_type": "code",
   "execution_count": 10,
   "id": "eb7998ca",
   "metadata": {},
   "outputs": [
    {
     "data": {
      "text/plain": [
       "(200, 9)"
      ]
     },
     "execution_count": 10,
     "metadata": {},
     "output_type": "execute_result"
    }
   ],
   "source": [
    "poly_feature.shape"
   ]
  },
  {
   "cell_type": "code",
   "execution_count": 11,
   "id": "44779dfc",
   "metadata": {},
   "outputs": [
    {
     "data": {
      "text/plain": [
       "(200, 3)"
      ]
     },
     "execution_count": 11,
     "metadata": {},
     "output_type": "execute_result"
    }
   ],
   "source": [
    "x.shape"
   ]
  },
  {
   "cell_type": "code",
   "execution_count": 12,
   "id": "dfe9d748",
   "metadata": {},
   "outputs": [
    {
     "data": {
      "text/plain": [
       "TV           230.1\n",
       "radio         37.8\n",
       "newspaper     69.2\n",
       "Name: 0, dtype: float64"
      ]
     },
     "execution_count": 12,
     "metadata": {},
     "output_type": "execute_result"
    }
   ],
   "source": [
    "x.iloc[0]"
   ]
  },
  {
   "cell_type": "code",
   "execution_count": 13,
   "id": "a77d46d0",
   "metadata": {},
   "outputs": [
    {
     "name": "stdout",
     "output_type": "stream",
     "text": [
      "[2.301000e+02 3.780000e+01 6.920000e+01 5.294601e+04 8.697780e+03\n",
      " 1.592292e+04 1.428840e+03 2.615760e+03 4.788640e+03]\n",
      "9\n"
     ]
    }
   ],
   "source": [
    "print(poly_feature[0])\n",
    "print(len(poly_feature[0]))"
   ]
  },
  {
   "cell_type": "code",
   "execution_count": 19,
   "id": "c8c47853",
   "metadata": {},
   "outputs": [
    {
     "data": {
      "text/plain": [
       "8697.779999999999"
      ]
     },
     "execution_count": 19,
     "metadata": {},
     "output_type": "execute_result"
    }
   ],
   "source": [
    "230.1*37.8"
   ]
  },
  {
   "cell_type": "code",
   "execution_count": 18,
   "id": "9fb0d0d6",
   "metadata": {},
   "outputs": [
    {
     "data": {
      "text/plain": [
       "52946.009999999995"
      ]
     },
     "execution_count": 18,
     "metadata": {},
     "output_type": "execute_result"
    }
   ],
   "source": [
    "2.301000e+02 **2"
   ]
  },
  {
   "cell_type": "code",
   "execution_count": 17,
   "id": "5693fd58",
   "metadata": {},
   "outputs": [
    {
     "data": {
      "text/plain": [
       "array([2.301000e+02, 3.780000e+01, 6.920000e+01, 5.294601e+04,\n",
       "       8.697780e+03, 1.592292e+04, 1.428840e+03, 2.615760e+03,\n",
       "       4.788640e+03])"
      ]
     },
     "execution_count": 17,
     "metadata": {},
     "output_type": "execute_result"
    }
   ],
   "source": [
    "poly_feature[0]"
   ]
  },
  {
   "cell_type": "code",
   "execution_count": 17,
   "id": "482db89f",
   "metadata": {},
   "outputs": [
    {
     "data": {
      "text/plain": [
       "array([52946.01,  1428.84,  4788.64])"
      ]
     },
     "execution_count": 17,
     "metadata": {},
     "output_type": "execute_result"
    }
   ],
   "source": [
    "#quardretic terms\n",
    "poly_feature[0][:3]**2"
   ]
  },
  {
   "cell_type": "code",
   "execution_count": 18,
   "id": "18ffa425",
   "metadata": {},
   "outputs": [
    {
     "data": {
      "text/plain": [
       "8697.779999999999"
      ]
     },
     "execution_count": 18,
     "metadata": {},
     "output_type": "execute_result"
    }
   ],
   "source": [
    "#interaction term\n",
    "230.1*37.8"
   ]
  },
  {
   "cell_type": "code",
   "execution_count": 19,
   "id": "1cfdb6e2",
   "metadata": {},
   "outputs": [
    {
     "data": {
      "text/plain": [
       "15922.92"
      ]
     },
     "execution_count": 19,
     "metadata": {},
     "output_type": "execute_result"
    }
   ],
   "source": [
    "230.1*69.2"
   ]
  },
  {
   "cell_type": "code",
   "execution_count": 20,
   "id": "1c0c473e",
   "metadata": {},
   "outputs": [
    {
     "data": {
      "text/plain": [
       "2615.7599999999998"
      ]
     },
     "execution_count": 20,
     "metadata": {},
     "output_type": "execute_result"
    }
   ],
   "source": [
    "37.8*69.2"
   ]
  },
  {
   "cell_type": "code",
   "execution_count": 20,
   "id": "5f0948e5",
   "metadata": {},
   "outputs": [],
   "source": [
    "from sklearn.model_selection import train_test_split"
   ]
  },
  {
   "cell_type": "code",
   "execution_count": 21,
   "id": "bdbcecf1",
   "metadata": {},
   "outputs": [],
   "source": [
    "x_train,x_test,y_train,y_test = train_test_split(poly_feature,y,test_size=0.3,random_state=101)"
   ]
  },
  {
   "cell_type": "code",
   "execution_count": 22,
   "id": "d2d2d365",
   "metadata": {},
   "outputs": [],
   "source": [
    "from sklearn.linear_model import LinearRegression"
   ]
  },
  {
   "cell_type": "code",
   "execution_count": 23,
   "id": "9396fb11",
   "metadata": {},
   "outputs": [],
   "source": [
    "poly_model = LinearRegression(fit_intercept=True)"
   ]
  },
  {
   "cell_type": "code",
   "execution_count": 25,
   "id": "36780f50",
   "metadata": {},
   "outputs": [
    {
     "data": {
      "text/html": [
       "<style>#sk-container-id-2 {color: black;background-color: white;}#sk-container-id-2 pre{padding: 0;}#sk-container-id-2 div.sk-toggleable {background-color: white;}#sk-container-id-2 label.sk-toggleable__label {cursor: pointer;display: block;width: 100%;margin-bottom: 0;padding: 0.3em;box-sizing: border-box;text-align: center;}#sk-container-id-2 label.sk-toggleable__label-arrow:before {content: \"▸\";float: left;margin-right: 0.25em;color: #696969;}#sk-container-id-2 label.sk-toggleable__label-arrow:hover:before {color: black;}#sk-container-id-2 div.sk-estimator:hover label.sk-toggleable__label-arrow:before {color: black;}#sk-container-id-2 div.sk-toggleable__content {max-height: 0;max-width: 0;overflow: hidden;text-align: left;background-color: #f0f8ff;}#sk-container-id-2 div.sk-toggleable__content pre {margin: 0.2em;color: black;border-radius: 0.25em;background-color: #f0f8ff;}#sk-container-id-2 input.sk-toggleable__control:checked~div.sk-toggleable__content {max-height: 200px;max-width: 100%;overflow: auto;}#sk-container-id-2 input.sk-toggleable__control:checked~label.sk-toggleable__label-arrow:before {content: \"▾\";}#sk-container-id-2 div.sk-estimator input.sk-toggleable__control:checked~label.sk-toggleable__label {background-color: #d4ebff;}#sk-container-id-2 div.sk-label input.sk-toggleable__control:checked~label.sk-toggleable__label {background-color: #d4ebff;}#sk-container-id-2 input.sk-hidden--visually {border: 0;clip: rect(1px 1px 1px 1px);clip: rect(1px, 1px, 1px, 1px);height: 1px;margin: -1px;overflow: hidden;padding: 0;position: absolute;width: 1px;}#sk-container-id-2 div.sk-estimator {font-family: monospace;background-color: #f0f8ff;border: 1px dotted black;border-radius: 0.25em;box-sizing: border-box;margin-bottom: 0.5em;}#sk-container-id-2 div.sk-estimator:hover {background-color: #d4ebff;}#sk-container-id-2 div.sk-parallel-item::after {content: \"\";width: 100%;border-bottom: 1px solid gray;flex-grow: 1;}#sk-container-id-2 div.sk-label:hover label.sk-toggleable__label {background-color: #d4ebff;}#sk-container-id-2 div.sk-serial::before {content: \"\";position: absolute;border-left: 1px solid gray;box-sizing: border-box;top: 0;bottom: 0;left: 50%;z-index: 0;}#sk-container-id-2 div.sk-serial {display: flex;flex-direction: column;align-items: center;background-color: white;padding-right: 0.2em;padding-left: 0.2em;position: relative;}#sk-container-id-2 div.sk-item {position: relative;z-index: 1;}#sk-container-id-2 div.sk-parallel {display: flex;align-items: stretch;justify-content: center;background-color: white;position: relative;}#sk-container-id-2 div.sk-item::before, #sk-container-id-2 div.sk-parallel-item::before {content: \"\";position: absolute;border-left: 1px solid gray;box-sizing: border-box;top: 0;bottom: 0;left: 50%;z-index: -1;}#sk-container-id-2 div.sk-parallel-item {display: flex;flex-direction: column;z-index: 1;position: relative;background-color: white;}#sk-container-id-2 div.sk-parallel-item:first-child::after {align-self: flex-end;width: 50%;}#sk-container-id-2 div.sk-parallel-item:last-child::after {align-self: flex-start;width: 50%;}#sk-container-id-2 div.sk-parallel-item:only-child::after {width: 0;}#sk-container-id-2 div.sk-dashed-wrapped {border: 1px dashed gray;margin: 0 0.4em 0.5em 0.4em;box-sizing: border-box;padding-bottom: 0.4em;background-color: white;}#sk-container-id-2 div.sk-label label {font-family: monospace;font-weight: bold;display: inline-block;line-height: 1.2em;}#sk-container-id-2 div.sk-label-container {text-align: center;}#sk-container-id-2 div.sk-container {/* jupyter's `normalize.less` sets `[hidden] { display: none; }` but bootstrap.min.css set `[hidden] { display: none !important; }` so we also need the `!important` here to be able to override the default hidden behavior on the sphinx rendered scikit-learn.org. See: https://github.com/scikit-learn/scikit-learn/issues/21755 */display: inline-block !important;position: relative;}#sk-container-id-2 div.sk-text-repr-fallback {display: none;}</style><div id=\"sk-container-id-2\" class=\"sk-top-container\"><div class=\"sk-text-repr-fallback\"><pre>LinearRegression()</pre><b>In a Jupyter environment, please rerun this cell to show the HTML representation or trust the notebook. <br />On GitHub, the HTML representation is unable to render, please try loading this page with nbviewer.org.</b></div><div class=\"sk-container\" hidden><div class=\"sk-item\"><div class=\"sk-estimator sk-toggleable\"><input class=\"sk-toggleable__control sk-hidden--visually\" id=\"sk-estimator-id-2\" type=\"checkbox\" checked><label for=\"sk-estimator-id-2\" class=\"sk-toggleable__label sk-toggleable__label-arrow\">LinearRegression</label><div class=\"sk-toggleable__content\"><pre>LinearRegression()</pre></div></div></div></div></div>"
      ],
      "text/plain": [
       "LinearRegression()"
      ]
     },
     "execution_count": 25,
     "metadata": {},
     "output_type": "execute_result"
    }
   ],
   "source": [
    "poly_model.fit(x_train,y_train)"
   ]
  },
  {
   "cell_type": "code",
   "execution_count": 26,
   "id": "ec933302",
   "metadata": {},
   "outputs": [
    {
     "data": {
      "text/plain": [
       "array([13.94856153, 19.33480262, 12.31928162, 16.76286337,  7.90210901,\n",
       "        6.94143792, 20.13372693, 17.50092709, 10.56889   , 20.12551788,\n",
       "        9.44614537, 14.09935417, 12.05513493, 23.39254049, 19.67508393,\n",
       "        9.15626258, 12.1163732 ,  9.28149557,  8.44604007, 21.65588129,\n",
       "        7.05070331, 19.35854208, 27.26716369, 24.58689346,  9.03179421,\n",
       "       11.81070232, 20.42630125,  9.19390639, 12.74795186,  8.64340674,\n",
       "        8.66294151, 20.20047377, 10.93673817,  6.84639129, 18.27939359,\n",
       "        9.47659449, 10.34242145,  9.6657038 ,  7.43347915, 11.03561332,\n",
       "       12.65731013, 10.65459946, 11.20971496,  7.46199023, 11.38224982,\n",
       "       10.27331262,  6.15573251, 15.50893362, 13.36092889, 22.71839277,\n",
       "       10.40389682, 13.21622701, 14.23622207, 11.8723677 , 11.68463616,\n",
       "        5.62217738, 25.03778913,  9.53507734, 17.37926571, 15.7534364 ])"
      ]
     },
     "execution_count": 26,
     "metadata": {},
     "output_type": "execute_result"
    }
   ],
   "source": [
    "y_prediction = poly_model.predict(x_test)\n",
    "y_prediction"
   ]
  },
  {
   "cell_type": "code",
   "execution_count": 32,
   "id": "a285ea04",
   "metadata": {},
   "outputs": [
    {
     "data": {
      "image/png": "[encoded data removed]",
      "text/plain": [
       "<Figure size 1152x432 with 3 Axes>"
      ]
     },
     "metadata": {},
     "output_type": "display_data"
    }
   ],
   "source": [
    "fig,axes = plt.subplots(nrows=1,ncols=3,figsize=(16,6))\n",
    "\n",
    "axes[0].plot(df['TV'],df['sales'],'o')\n",
    "axes[0].plot(x_test,y_prediction,'o',color='red')\n",
    "axes[0].set_ylabel(\"Sales\",c='r')\n",
    "axes[0].set_title(\"TV Spend\",c='r')\n",
    "\n",
    "axes[1].plot(df['radio'],df['sales'],'o')\n",
    "axes[1].plot(x_test,y_prediction,'o',color='red')\n",
    "axes[1].set_title(\"Radio Spend\",c='r')\n",
    "axes[1].set_ylabel(\"Sales\",c='r')\n",
    "\n",
    "axes[2].plot(df['newspaper'],df['sales'],'o')\n",
    "axes[2].plot(x_test,y_prediction,'o',color='red')\n",
    "axes[2].set_title(\"Newspaper Spend\",c='r');\n",
    "axes[2].set_ylabel(\"Sales\",c='r')\n",
    "plt.xticks(c='y')\n",
    "plt.yticks(c='y')\n",
    "plt.tight_layout();\n",
    "\n",
    "\n",
    "plt.show()"
   ]
  },
  {
   "cell_type": "code",
   "execution_count": null,
   "id": "3dd34f2d",
   "metadata": {},
   "outputs": [],
   "source": []
  },
  {
   "cell_type": "code",
   "execution_count": 35,
   "id": "65b38371",
   "metadata": {},
   "outputs": [
    {
     "name": "stderr",
     "output_type": "stream",
     "text": [
      "C:\\Users\\Abdelrahman\\anaconda3\\lib\\site-packages\\sklearn\\base.py:439: UserWarning:\n",
      "\n",
      "X does not have valid feature names, but PolynomialFeatures was fitted with feature names\n",
      "\n"
     ]
    },
    {
     "data": {
      "image/png": "[encoded data removed]",
      "text/plain": [
       "<Figure size 720x576 with 1 Axes>"
      ]
     },
     "metadata": {
      "needs_background": "light"
     },
     "output_type": "display_data"
    }
   ],
   "source": [
    "\n",
    "# Create a meshgrid for TV and radio\n",
    "tv_range = np.linspace(df['TV'].min(), df['TV'].max(), 100)\n",
    "radio_range = np.linspace(df['radio'].min(), df['radio'].max(), 100)\n",
    "tv_mesh, radio_mesh = np.meshgrid(tv_range, radio_range)\n",
    "\n",
    "# Create the feature matrix for the meshgrid\n",
    "mesh_feature = np.c_[tv_mesh.ravel(), radio_mesh.ravel(), np.zeros_like(tv_mesh.ravel())]\n",
    "\n",
    "# Transform the meshgrid features to polynomial features\n",
    "mesh_poly_feature = poly_converter.transform(mesh_feature)\n",
    "\n",
    "# Predict the sales values\n",
    "sales_pred = poly_model.predict(mesh_poly_feature).reshape(tv_mesh.shape)\n",
    "\n",
    "# Create the 3D plot\n",
    "fig = plt.figure(figsize=(10, 8))\n",
    "ax = fig.add_subplot(111, projection='3d')\n",
    "\n",
    "# Plot the surface\n",
    "ax.plot_surface(tv_mesh, radio_mesh, sales_pred, cmap='viridis', alpha=0.6)\n",
    "\n",
    "# Plot the actual data points\n",
    "ax.scatter(df['TV'], df['radio'], df['sales'], c='r', marker='o')\n",
    "\n",
    "# Set labels\n",
    "ax.set_xlabel('TV Spend')\n",
    "ax.set_ylabel('Radio Spend')\n",
    "ax.set_zlabel('Sales')\n",
    "\n",
    "# Show the plot\n",
    "plt.show()"
   ]
  },
  {
   "cell_type": "code",
   "execution_count": null,
   "id": "ef936ead",
   "metadata": {},
   "outputs": [],
   "source": []
  },
  {
   "cell_type": "code",
   "execution_count": 36,
   "id": "5bf4194f",
   "metadata": {},
   "outputs": [
    {
     "name": "stderr",
     "output_type": "stream",
     "text": [
      "C:\\Users\\Abdelrahman\\anaconda3\\lib\\site-packages\\sklearn\\base.py:439: UserWarning:\n",
      "\n",
      "X does not have valid feature names, but PolynomialFeatures was fitted with feature names\n",
      "\n"
     ]
    },
    {
     "data": {
      "application/vnd.plotly.v1+json": {
       "config": {
        "plotlyServerURL": "https://plot.ly"
       },
       "data": [
        {
         "marker": {
          "color": "blue",
          "opacity": 0.6,
          "size": 6
         },
         "mode": "markers",
         "name": "Training Data",
         "type": "scatter3d",
         "x": [
          193.2,
          287.6,
          80.2,
          182.6,
          222.4,
          250.9,
          187.8,
          78.2,
          125.7,
          131.1,
          234.5,
          62.3,
          286,
          76.4,
          97.5,
          216.4,
          85.7,
          243.2,
          7.3,
          232.1,
          280.7,
          131.7,
          56.2,
          205,
          166.8,
          240.1,
          17.2,
          206.8,
          238.2,
          177,
          28.6,
          237.4,
          48.3,
          70.6,
          197.6,
          141.3,
          89.7,
          120.5,
          136.2,
          75.3,
          139.3,
          289.7,
          116,
          36.9,
          228.3,
          237.4,
          13.1,
          197.6,
          296.4,
          170.2,
          88.3,
          57.5,
          100.4,
          248.4,
          191.1,
          216.8,
          204.1,
          265.2,
          213.5,
          218.5,
          151.5,
          172.5,
          290.7,
          107.4,
          209.6,
          184.9,
          123.1,
          283.6,
          217.7,
          210.8,
          0.7,
          239.9,
          17.9,
          142.9,
          224,
          76.3,
          163.5,
          218.4,
          121,
          66.1,
          292.9,
          164.5,
          229.5,
          184.9,
          281.4,
          253.8,
          25,
          139.2,
          230.1,
          168.4,
          104.6,
          93.9,
          109.8,
          240.1,
          129.4,
          43.1,
          187.9,
          284.3,
          120.2,
          18.7,
          248.8,
          135.2,
          239.3,
          8.6,
          137.9,
          220.3,
          149.7,
          90.4,
          27.5,
          43,
          7.8,
          147.3,
          26.8,
          25.1,
          188.4,
          210.7,
          276.7,
          149.8,
          75.1,
          25.6,
          241.7,
          68.4,
          66.9,
          75.5,
          73.4,
          8.7,
          225.8,
          53.5,
          215.4,
          38.2,
          8.4,
          202.5,
          273.7,
          16.9,
          110.7,
          102.7,
          199.1,
          239.8,
          214.7,
          163.3
         ],
         "y": [
          18.4,
          43,
          0,
          46.2,
          4.3,
          36.5,
          21.1,
          46.8,
          36.9,
          42.8,
          3.4,
          12.6,
          13.9,
          0.8,
          7.6,
          41.7,
          35.8,
          49,
          28.1,
          8.6,
          13.9,
          18.4,
          5.7,
          45.1,
          42,
          16.7,
          4.1,
          5.2,
          34.3,
          9.3,
          1.5,
          5.1,
          47,
          16,
          3.5,
          26.8,
          9.9,
          28.5,
          19.2,
          20.3,
          14.5,
          42.3,
          7.7,
          38.6,
          16.9,
          27.5,
          0.4,
          23.3,
          36.3,
          7.8,
          25.5,
          32.8,
          9.6,
          30.2,
          28.7,
          43.9,
          32.9,
          2.9,
          43,
          5.4,
          41.3,
          18.1,
          4.1,
          14,
          20.6,
          43.9,
          34.6,
          42,
          33.5,
          49.6,
          39.6,
          41.5,
          37.6,
          29.3,
          2.4,
          27.5,
          36.8,
          27.7,
          8.4,
          5.8,
          28.3,
          20.9,
          32.3,
          21,
          39.6,
          21.3,
          11,
          14.3,
          37.8,
          7.1,
          5.7,
          43.5,
          14.3,
          7.3,
          5.7,
          26.7,
          17.2,
          10.6,
          19.6,
          12.1,
          27.1,
          41.7,
          15.5,
          2.1,
          46.4,
          49,
          35.6,
          0.3,
          1.6,
          25.9,
          38.9,
          23.9,
          33,
          25.7,
          18.1,
          29.5,
          2.3,
          1.3,
          35,
          39,
          38,
          44.5,
          11.7,
          10.8,
          17,
          48.9,
          8.2,
          2,
          23.6,
          3.7,
          27.2,
          22.3,
          28.9,
          43.7,
          40.6,
          29.6,
          30.6,
          4.1,
          24,
          31.6
         ],
         "z": [
          15.2,
          26.2,
          8.8,
          21.2,
          11.7,
          22.2,
          15.6,
          14.6,
          15.9,
          18,
          11.9,
          9.7,
          15.9,
          9.4,
          9.7,
          22.6,
          13.3,
          25.4,
          5.5,
          13.4,
          16.1,
          12.9,
          8.7,
          22.6,
          19.6,
          15.9,
          5.9,
          12.2,
          20.7,
          12.8,
          7.3,
          12.5,
          11.6,
          10.5,
          11.7,
          15.5,
          10.6,
          14.2,
          13.2,
          11.3,
          13.4,
          25.4,
          11,
          10.8,
          15.5,
          18.9,
          5.3,
          16.6,
          23.8,
          11.7,
          12.9,
          11.8,
          10.7,
          20.2,
          17.3,
          22.3,
          19,
          12.7,
          21.7,
          12.2,
          18.5,
          14.4,
          12.8,
          11.5,
          15.9,
          20.7,
          15.2,
          25.5,
          19.4,
          23.8,
          1.6,
          23.2,
          8,
          15,
          11.6,
          12,
          18,
          18,
          11.6,
          8.6,
          21.4,
          14.5,
          19.7,
          15.5,
          24.4,
          17.6,
          7.2,
          12.2,
          22.1,
          11.7,
          10.4,
          15.3,
          12.4,
          13.2,
          11,
          10.1,
          14.7,
          15,
          13.2,
          6.7,
          18.9,
          17.2,
          15.7,
          4.8,
          19.2,
          24.7,
          17.3,
          8.7,
          6.9,
          9.6,
          6.6,
          14.6,
          8.8,
          8.5,
          14.9,
          18.4,
          11.8,
          10.1,
          12.6,
          9.5,
          21.8,
          13.6,
          9.7,
          9.9,
          10.9,
          7.2,
          13.4,
          8.1,
          17.1,
          7.6,
          5.7,
          16.6,
          20.8,
          8.7,
          16,
          14,
          18.3,
          12.3,
          17.4,
          16.9
         ]
        },
        {
         "marker": {
          "color": "red",
          "opacity": 0.8,
          "size": 6
         },
         "mode": "markers",
         "name": "Testing Data",
         "type": "scatter3d",
         "x": [
          74.7,
          255.4,
          112.9,
          109.8,
          31.5,
          19.4,
          262.7,
          213.4,
          140.3,
          220.5,
          38,
          175.7,
          222.4,
          198.9,
          193.7,
          44.7,
          262.9,
          95.7,
          50,
          228,
          19.6,
          171.3,
          276.9,
          261.3,
          69,
          199.8,
          293.6,
          59.6,
          165.6,
          17.2,
          23.8,
          219.8,
          134.3,
          13.2,
          177,
          97.2,
          87.2,
          94.2,
          11.7,
          156.6,
          67.8,
          139.5,
          96.2,
          18.8,
          76.4,
          69.2,
          5.4,
          227.2,
          180.8,
          195.4,
          44.5,
          206.9,
          280.2,
          117.2,
          199.8,
          4.1,
          266.9,
          39.5,
          265.6,
          175.1
         ],
         "y": [
          49.4,
          26.9,
          17.4,
          47.8,
          24.6,
          16,
          28.8,
          24.6,
          1.9,
          33.2,
          40.3,
          15.4,
          3.4,
          49.4,
          35.4,
          25.8,
          3.5,
          1.4,
          11.6,
          37.7,
          20.1,
          39.7,
          48.9,
          42.7,
          9.3,
          3.1,
          27.7,
          12,
          10,
          45.9,
          35.1,
          33.5,
          4.9,
          15.9,
          33.4,
          1.5,
          11.8,
          4.9,
          36.9,
          2.6,
          36.6,
          2.1,
          14.8,
          21.7,
          26.7,
          20.5,
          29.9,
          15.8,
          10.8,
          47.7,
          39.3,
          8.4,
          10.1,
          14.7,
          2.6,
          11.6,
          43.8,
          41.1,
          20,
          22.5
         ],
         "z": [
          14.7,
          19.8,
          11.9,
          16.7,
          9.5,
          6.6,
          20.2,
          17,
          10.3,
          20.1,
          10.9,
          14.1,
          11.5,
          23.7,
          19.2,
          10.1,
          12,
          9.5,
          8.4,
          21.5,
          7.6,
          19,
          27,
          24.2,
          9.3,
          11.4,
          20.7,
          9.7,
          12.6,
          9.3,
          9.2,
          19.6,
          11.2,
          5.6,
          17.1,
          9.6,
          10.6,
          9.7,
          7.3,
          10.5,
          12.5,
          10.3,
          11.4,
          7,
          11.8,
          11.3,
          5.3,
          14.8,
          12.9,
          22.4,
          10.4,
          12.9,
          14.8,
          11.9,
          10.6,
          3.2,
          25.4,
          10.8,
          17.4,
          14.9
         ]
        },
        {
         "marker": {
          "color": "green",
          "opacity": 0.9,
          "size": 8,
          "symbol": "x"
         },
         "mode": "markers",
         "name": "Predicted Test Data",
         "type": "scatter3d",
         "x": [
          74.7,
          255.4,
          112.9,
          109.8,
          31.5,
          19.4,
          262.7,
          213.4,
          140.3,
          220.5,
          38,
          175.7,
          222.4,
          198.9,
          193.7,
          44.7,
          262.9,
          95.7,
          50,
          228,
          19.6,
          171.3,
          276.9,
          261.3,
          69,
          199.8,
          293.6,
          59.6,
          165.6,
          17.2,
          23.8,
          219.8,
          134.3,
          13.2,
          177,
          97.2,
          87.2,
          94.2,
          11.7,
          156.6,
          67.8,
          139.5,
          96.2,
          18.8,
          76.4,
          69.2,
          5.4,
          227.2,
          180.8,
          195.4,
          44.5,
          206.9,
          280.2,
          117.2,
          199.8,
          4.1,
          266.9,
          39.5,
          265.6,
          175.1
         ],
         "y": [
          49.4,
          26.9,
          17.4,
          47.8,
          24.6,
          16,
          28.8,
          24.6,
          1.9,
          33.2,
          40.3,
          15.4,
          3.4,
          49.4,
          35.4,
          25.8,
          3.5,
          1.4,
          11.6,
          37.7,
          20.1,
          39.7,
          48.9,
          42.7,
          9.3,
          3.1,
          27.7,
          12,
          10,
          45.9,
          35.1,
          33.5,
          4.9,
          15.9,
          33.4,
          1.5,
          11.8,
          4.9,
          36.9,
          2.6,
          36.6,
          2.1,
          14.8,
          21.7,
          26.7,
          20.5,
          29.9,
          15.8,
          10.8,
          47.7,
          39.3,
          8.4,
          10.1,
          14.7,
          2.6,
          11.6,
          43.8,
          41.1,
          20,
          22.5
         ],
         "z": [
          13.948561528699305,
          19.334802620100202,
          12.31928162239089,
          16.76286336614094,
          7.902109010045834,
          6.941437924726727,
          20.133726933154463,
          17.500927092294333,
          10.568890003905327,
          20.12551788123087,
          9.446145373120007,
          14.099354174333593,
          12.0551349318533,
          23.39254049436959,
          19.67508393385954,
          9.156262576656985,
          12.11637319994373,
          9.28149557203054,
          8.446040066104695,
          21.655881289215017,
          7.050703311706631,
          19.358542084089567,
          27.267163690767106,
          24.586893459019905,
          9.031794210479042,
          11.810702321904646,
          20.426301251985205,
          9.193906385268896,
          12.747951856994586,
          8.64340674289624,
          8.662941509963488,
          20.200473769702413,
          10.93673816948871,
          6.846391291305323,
          18.279393593343983,
          9.476594487784116,
          10.342421449061911,
          9.66570379793225,
          7.43347914862946,
          11.035613320241994,
          12.657310132847606,
          10.65459946036114,
          11.20971495772265,
          7.461990228029478,
          11.382249824372149,
          10.273312620473638,
          6.155732511083627,
          15.508933618096853,
          13.360928890338295,
          22.718392767634427,
          10.40389682125312,
          13.216227010533121,
          14.236222068805857,
          11.872367704368251,
          11.684636156857056,
          5.622177384020163,
          25.037789134188678,
          9.535077337562415,
          17.37926571365701,
          15.753436400330628
         ]
        },
        {
         "colorscale": [
          [
           0,
           "#440154"
          ],
          [
           0.1111111111111111,
           "#482878"
          ],
          [
           0.2222222222222222,
           "#3e4989"
          ],
          [
           0.3333333333333333,
           "#31688e"
          ],
          [
           0.4444444444444444,
           "#26828e"
          ],
          [
           0.5555555555555556,
           "#1f9e89"
          ],
          [
           0.6666666666666666,
           "#35b779"
          ],
          [
           0.7777777777777778,
           "#6ece58"
          ],
          [
           0.8888888888888888,
           "#b5de2b"
          ],
          [
           1,
           "#fde725"
          ]
         ],
         "name": "Regression Plane",
         "opacity": 0.5,
         "showscale": false,
         "type": "surface",
         "x": [
          [
           0.7,
           33.55555555555556,
           66.41111111111111,
           99.26666666666667,
           132.1222222222222,
           164.97777777777776,
           197.83333333333331,
           230.68888888888887,
           263.5444444444444,
           296.4
          ],
          [
           0.7,
           33.55555555555556,
           66.41111111111111,
           99.26666666666667,
           132.1222222222222,
           164.97777777777776,
           197.83333333333331,
           230.68888888888887,
           263.5444444444444,
           296.4
          ],
          [
           0.7,
           33.55555555555556,
           66.41111111111111,
           99.26666666666667,
           132.1222222222222,
           164.97777777777776,
           197.83333333333331,
           230.68888888888887,
           263.5444444444444,
           296.4
          ],
          [
           0.7,
           33.55555555555556,
           66.41111111111111,
           99.26666666666667,
           132.1222222222222,
           164.97777777777776,
           197.83333333333331,
           230.68888888888887,
           263.5444444444444,
           296.4
          ],
          [
           0.7,
           33.55555555555556,
           66.41111111111111,
           99.26666666666667,
           132.1222222222222,
           164.97777777777776,
           197.83333333333331,
           230.68888888888887,
           263.5444444444444,
           296.4
          ],
          [
           0.7,
           33.55555555555556,
           66.41111111111111,
           99.26666666666667,
           132.1222222222222,
           164.97777777777776,
           197.83333333333331,
           230.68888888888887,
           263.5444444444444,
           296.4
          ],
          [
           0.7,
           33.55555555555556,
           66.41111111111111,
           99.26666666666667,
           132.1222222222222,
           164.97777777777776,
           197.83333333333331,
           230.68888888888887,
           263.5444444444444,
           296.4
          ],
          [
           0.7,
           33.55555555555556,
           66.41111111111111,
           99.26666666666667,
           132.1222222222222,
           164.97777777777776,
           197.83333333333331,
           230.68888888888887,
           263.5444444444444,
           296.4
          ],
          [
           0.7,
           33.55555555555556,
           66.41111111111111,
           99.26666666666667,
           132.1222222222222,
           164.97777777777776,
           197.83333333333331,
           230.68888888888887,
           263.5444444444444,
           296.4
          ],
          [
           0.7,
           33.55555555555556,
           66.41111111111111,
           99.26666666666667,
           132.1222222222222,
           164.97777777777776,
           197.83333333333331,
           230.68888888888887,
           263.5444444444444,
           296.4
          ]
         ],
         "y": [
          [
           0,
           0,
           0,
           0,
           0,
           0,
           0,
           0,
           0,
           0
          ],
          [
           5.511111111111111,
           5.511111111111111,
           5.511111111111111,
           5.511111111111111,
           5.511111111111111,
           5.511111111111111,
           5.511111111111111,
           5.511111111111111,
           5.511111111111111,
           5.511111111111111
          ],
          [
           11.022222222222222,
           11.022222222222222,
           11.022222222222222,
           11.022222222222222,
           11.022222222222222,
           11.022222222222222,
           11.022222222222222,
           11.022222222222222,
           11.022222222222222,
           11.022222222222222
          ],
          [
           16.53333333333333,
           16.53333333333333,
           16.53333333333333,
           16.53333333333333,
           16.53333333333333,
           16.53333333333333,
           16.53333333333333,
           16.53333333333333,
           16.53333333333333,
           16.53333333333333
          ],
          [
           22.044444444444444,
           22.044444444444444,
           22.044444444444444,
           22.044444444444444,
           22.044444444444444,
           22.044444444444444,
           22.044444444444444,
           22.044444444444444,
           22.044444444444444,
           22.044444444444444
          ],
          [
           27.555555555555557,
           27.555555555555557,
           27.555555555555557,
           27.555555555555557,
           27.555555555555557,
           27.555555555555557,
           27.555555555555557,
           27.555555555555557,
           27.555555555555557,
           27.555555555555557
          ],
          [
           33.06666666666666,
           33.06666666666666,
           33.06666666666666,
           33.06666666666666,
           33.06666666666666,
           33.06666666666666,
           33.06666666666666,
           33.06666666666666,
           33.06666666666666,
           33.06666666666666
          ],
          [
           38.577777777777776,
           38.577777777777776,
           38.577777777777776,
           38.577777777777776,
           38.577777777777776,
           38.577777777777776,
           38.577777777777776,
           38.577777777777776,
           38.577777777777776,
           38.577777777777776
          ],
          [
           44.08888888888889,
           44.08888888888889,
           44.08888888888889,
           44.08888888888889,
           44.08888888888889,
           44.08888888888889,
           44.08888888888889,
           44.08888888888889,
           44.08888888888889,
           44.08888888888889
          ],
          [
           49.6,
           49.6,
           49.6,
           49.6,
           49.6,
           49.6,
           49.6,
           49.6,
           49.6,
           49.6
          ]
         ],
         "z": [
          [
           5.498780466225774,
           7.020306868504642,
           8.302419185725865,
           9.345117417889444,
           10.148401564995378,
           10.71227162704367,
           11.036727604034313,
           11.121769495967316,
           10.967397302842672,
           10.573611024660385
          ],
          [
           5.600964496643641,
           7.329296491116645,
           8.818214400532005,
           10.06771822488972,
           11.077807964189791,
           11.848483618432219,
           12.379745187617003,
           12.67159267174414,
           12.724026070813634,
           12.53704538482548
          ],
          [
           5.70518298666849,
           7.6403205733356305,
           9.336044074945129,
           10.792353491496979,
           12.009248822991188,
           12.98673006942775,
           13.724797230806669,
           14.223450307127946,
           14.482689298391572,
           14.50251420459756
          ],
          [
           5.81143593630032,
           7.953379115161598,
           9.85590820896523,
           11.51902321771122,
           12.942724141399566,
           14.127010980030265,
           15.07188373360332,
           15.77734240211873,
           16.243386985576496,
           16.47001748397662
          ],
          [
           5.919723345539132,
           8.268472116594547,
           10.377806802592318,
           12.247727403532442,
           13.878233919414923,
           15.269326350239762,
           16.421004696006953,
           17.333268956716502,
           18.006119132368404,
           18.43955522296266
          ],
          [
           6.030045214384927,
           8.58559957763448,
           10.901739855826385,
           12.978466048960648,
           14.815778157037265,
           16.41367618005624,
           17.772160118017567,
           18.891229970921252,
           19.77088573876729,
           20.41112742155569
          ],
          [
           6.142401542837702,
           8.904761498281392,
           11.427707368667434,
           13.711239153995834,
           15.755356854266589,
           17.5600604694797,
           19.125349999635162,
           20.451225444732984,
           21.53768680477316,
           22.384734079755695
          ],
          [
           6.256792330897461,
           9.225957878535286,
           11.955709341115465,
           14.446046718638005,
           16.69697001110289,
           18.708479218510142,
           20.480574340859746,
           22.013255378151705,
           23.306522330386017,
           24.360375197562682
          ],
          [
           6.373217578564201,
           9.549188718396163,
           12.48574577317048,
           15.182888742887153,
           17.640617627546185,
           19.858932427147565,
           21.837833141691306,
           23.5773197711774,
           25.07739231560585,
           26.338050774976658
          ],
          [
           6.491677285837923,
           9.874454017864021,
           13.017816664832477,
           15.921765226743286,
           18.586299703596453,
           21.01142009539197,
           23.197126402129847,
           25.143418623810078,
           26.85029676043267,
           28.31776081199761
          ]
         ]
        }
       ],
       "layout": {
        "height": 700,
        "scene": {
         "xaxis": {
          "title": {
           "text": "TV Spend"
          }
         },
         "yaxis": {
          "title": {
           "text": "Radio Spend"
          }
         },
         "zaxis": {
          "title": {
           "text": "Sales"
          }
         }
        },
        "template": {
         "data": {
          "bar": [
           {
            "error_x": {
             "color": "#2a3f5f"
            },
            "error_y": {
             "color": "#2a3f5f"
            },
            "marker": {
             "line": {
              "color": "#E5ECF6",
              "width": 0.5
             },
             "pattern": {
              "fillmode": "overlay",
              "size": 10,
              "solidity": 0.2
             }
            },
            "type": "bar"
           }
          ],
          "barpolar": [
           {
            "marker": {
             "line": {
              "color": "#E5ECF6",
              "width": 0.5
             },
             "pattern": {
              "fillmode": "overlay",
              "size": 10,
              "solidity": 0.2
             }
            },
            "type": "barpolar"
           }
          ],
          "carpet": [
           {
            "aaxis": {
             "endlinecolor": "#2a3f5f",
             "gridcolor": "white",
             "linecolor": "white",
             "minorgridcolor": "white",
             "startlinecolor": "#2a3f5f"
            },
            "baxis": {
             "endlinecolor": "#2a3f5f",
             "gridcolor": "white",
             "linecolor": "white",
             "minorgridcolor": "white",
             "startlinecolor": "#2a3f5f"
            },
            "type": "carpet"
           }
          ],
          "choropleth": [
           {
            "colorbar": {
             "outlinewidth": 0,
             "ticks": ""
            },
            "type": "choropleth"
           }
          ],
          "contour": [
           {
            "colorbar": {
             "outlinewidth": 0,
             "ticks": ""
            },
            "colorscale": [
             [
              0,
              "#0d0887"
             ],
             [
              0.1111111111111111,
              "#46039f"
             ],
             [
              0.2222222222222222,
              "#7201a8"
             ],
             [
              0.3333333333333333,
              "#9c179e"
             ],
             [
              0.4444444444444444,
              "#bd3786"
             ],
             [
              0.5555555555555556,
              "#d8576b"
             ],
             [
              0.6666666666666666,
              "#ed7953"
             ],
             [
              0.7777777777777778,
              "#fb9f3a"
             ],
             [
              0.8888888888888888,
              "#fdca26"
             ],
             [
              1,
              "#f0f921"
             ]
            ],
            "type": "contour"
           }
          ],
          "contourcarpet": [
           {
            "colorbar": {
             "outlinewidth": 0,
             "ticks": ""
            },
            "type": "contourcarpet"
           }
          ],
          "heatmap": [
           {
            "colorbar": {
             "outlinewidth": 0,
             "ticks": ""
            },
            "colorscale": [
             [
              0,
              "#0d0887"
             ],
             [
              0.1111111111111111,
              "#46039f"
             ],
             [
              0.2222222222222222,
              "#7201a8"
             ],
             [
              0.3333333333333333,
              "#9c179e"
             ],
             [
              0.4444444444444444,
              "#bd3786"
             ],
             [
              0.5555555555555556,
              "#d8576b"
             ],
             [
              0.6666666666666666,
              "#ed7953"
             ],
             [
              0.7777777777777778,
              "#fb9f3a"
             ],
             [
              0.8888888888888888,
              "#fdca26"
             ],
             [
              1,
              "#f0f921"
             ]
            ],
            "type": "heatmap"
           }
          ],
          "heatmapgl": [
           {
            "colorbar": {
             "outlinewidth": 0,
             "ticks": ""
            },
            "colorscale": [
             [
              0,
              "#0d0887"
             ],
             [
              0.1111111111111111,
              "#46039f"
             ],
             [
              0.2222222222222222,
              "#7201a8"
             ],
             [
              0.3333333333333333,
              "#9c179e"
             ],
             [
              0.4444444444444444,
              "#bd3786"
             ],
             [
              0.5555555555555556,
              "#d8576b"
             ],
             [
              0.6666666666666666,
              "#ed7953"
             ],
             [
              0.7777777777777778,
              "#fb9f3a"
             ],
             [
              0.8888888888888888,
              "#fdca26"
             ],
             [
              1,
              "#f0f921"
             ]
            ],
            "type": "heatmapgl"
           }
          ],
          "histogram": [
           {
            "marker": {
             "pattern": {
              "fillmode": "overlay",
              "size": 10,
              "solidity": 0.2
             }
            },
            "type": "histogram"
           }
          ],
          "histogram2d": [
           {
            "colorbar": {
             "outlinewidth": 0,
             "ticks": ""
            },
            "colorscale": [
             [
              0,
              "#0d0887"
             ],
             [
              0.1111111111111111,
              "#46039f"
             ],
             [
              0.2222222222222222,
              "#7201a8"
             ],
             [
              0.3333333333333333,
              "#9c179e"
             ],
             [
              0.4444444444444444,
              "#bd3786"
             ],
             [
              0.5555555555555556,
              "#d8576b"
             ],
             [
              0.6666666666666666,
              "#ed7953"
             ],
             [
              0.7777777777777778,
              "#fb9f3a"
             ],
             [
              0.8888888888888888,
              "#fdca26"
             ],
             [
              1,
              "#f0f921"
             ]
            ],
            "type": "histogram2d"
           }
          ],
          "histogram2dcontour": [
           {
            "colorbar": {
             "outlinewidth": 0,
             "ticks": ""
            },
            "colorscale": [
             [
              0,
              "#0d0887"
             ],
             [
              0.1111111111111111,
              "#46039f"
             ],
             [
              0.2222222222222222,
              "#7201a8"
             ],
             [
              0.3333333333333333,
              "#9c179e"
             ],
             [
              0.4444444444444444,
              "#bd3786"
             ],
             [
              0.5555555555555556,
              "#d8576b"
             ],
             [
              0.6666666666666666,
              "#ed7953"
             ],
             [
              0.7777777777777778,
              "#fb9f3a"
             ],
             [
              0.8888888888888888,
              "#fdca26"
             ],
             [
              1,
              "#f0f921"
             ]
            ],
            "type": "histogram2dcontour"
           }
          ],
          "mesh3d": [
           {
            "colorbar": {
             "outlinewidth": 0,
             "ticks": ""
            },
            "type": "mesh3d"
           }
          ],
          "parcoords": [
           {
            "line": {
             "colorbar": {
              "outlinewidth": 0,
              "ticks": ""
             }
            },
            "type": "parcoords"
           }
          ],
          "pie": [
           {
            "automargin": true,
            "type": "pie"
           }
          ],
          "scatter": [
           {
            "marker": {
             "colorbar": {
              "outlinewidth": 0,
              "ticks": ""
             }
            },
            "type": "scatter"
           }
          ],
          "scatter3d": [
           {
            "line": {
             "colorbar": {
              "outlinewidth": 0,
              "ticks": ""
             }
            },
            "marker": {
             "colorbar": {
              "outlinewidth": 0,
              "ticks": ""
             }
            },
            "type": "scatter3d"
           }
          ],
          "scattercarpet": [
           {
            "marker": {
             "colorbar": {
              "outlinewidth": 0,
              "ticks": ""
             }
            },
            "type": "scattercarpet"
           }
          ],
          "scattergeo": [
           {
            "marker": {
             "colorbar": {
              "outlinewidth": 0,
              "ticks": ""
             }
            },
            "type": "scattergeo"
           }
          ],
          "scattergl": [
           {
            "marker": {
             "colorbar": {
              "outlinewidth": 0,
              "ticks": ""
             }
            },
            "type": "scattergl"
           }
          ],
          "scattermapbox": [
           {
            "marker": {
             "colorbar": {
              "outlinewidth": 0,
              "ticks": ""
             }
            },
            "type": "scattermapbox"
           }
          ],
          "scatterpolar": [
           {
            "marker": {
             "colorbar": {
              "outlinewidth": 0,
              "ticks": ""
             }
            },
            "type": "scatterpolar"
           }
          ],
          "scatterpolargl": [
           {
            "marker": {
             "colorbar": {
              "outlinewidth": 0,
              "ticks": ""
             }
            },
            "type": "scatterpolargl"
           }
          ],
          "scatterternary": [
           {
            "marker": {
             "colorbar": {
              "outlinewidth": 0,
              "ticks": ""
             }
            },
            "type": "scatterternary"
           }
          ],
          "surface": [
           {
            "colorbar": {
             "outlinewidth": 0,
             "ticks": ""
            },
            "colorscale": [
             [
              0,
              "#0d0887"
             ],
             [
              0.1111111111111111,
              "#46039f"
             ],
             [
              0.2222222222222222,
              "#7201a8"
             ],
             [
              0.3333333333333333,
              "#9c179e"
             ],
             [
              0.4444444444444444,
              "#bd3786"
             ],
             [
              0.5555555555555556,
              "#d8576b"
             ],
             [
              0.6666666666666666,
              "#ed7953"
             ],
             [
              0.7777777777777778,
              "#fb9f3a"
             ],
             [
              0.8888888888888888,
              "#fdca26"
             ],
             [
              1,
              "#f0f921"
             ]
            ],
            "type": "surface"
           }
          ],
          "table": [
           {
            "cells": {
             "fill": {
              "color": "#EBF0F8"
             },
             "line": {
              "color": "white"
             }
            },
            "header": {
             "fill": {
              "color": "#C8D4E3"
             },
             "line": {
              "color": "white"
             }
            },
            "type": "table"
           }
          ]
         },
         "layout": {
          "annotationdefaults": {
           "arrowcolor": "#2a3f5f",
           "arrowhead": 0,
           "arrowwidth": 1
          },
          "autotypenumbers": "strict",
          "coloraxis": {
           "colorbar": {
            "outlinewidth": 0,
            "ticks": ""
           }
          },
          "colorscale": {
           "diverging": [
            [
             0,
             "#8e0152"
            ],
            [
             0.1,
             "#c51b7d"
            ],
            [
             0.2,
             "#de77ae"
            ],
            [
             0.3,
             "#f1b6da"
            ],
            [
             0.4,
             "#fde0ef"
            ],
            [
             0.5,
             "#f7f7f7"
            ],
            [
             0.6,
             "#e6f5d0"
            ],
            [
             0.7,
             "#b8e186"
            ],
            [
             0.8,
             "#7fbc41"
            ],
            [
             0.9,
             "#4d9221"
            ],
            [
             1,
             "#276419"
            ]
           ],
           "sequential": [
            [
             0,
             "#0d0887"
            ],
            [
             0.1111111111111111,
             "#46039f"
            ],
            [
             0.2222222222222222,
             "#7201a8"
            ],
            [
             0.3333333333333333,
             "#9c179e"
            ],
            [
             0.4444444444444444,
             "#bd3786"
            ],
            [
             0.5555555555555556,
             "#d8576b"
            ],
            [
             0.6666666666666666,
             "#ed7953"
            ],
            [
             0.7777777777777778,
             "#fb9f3a"
            ],
            [
             0.8888888888888888,
             "#fdca26"
            ],
            [
             1,
             "#f0f921"
            ]
           ],
           "sequentialminus": [
            [
             0,
             "#0d0887"
            ],
            [
             0.1111111111111111,
             "#46039f"
            ],
            [
             0.2222222222222222,
             "#7201a8"
            ],
            [
             0.3333333333333333,
             "#9c179e"
            ],
            [
             0.4444444444444444,
             "#bd3786"
            ],
            [
             0.5555555555555556,
             "#d8576b"
            ],
            [
             0.6666666666666666,
             "#ed7953"
            ],
            [
             0.7777777777777778,
             "#fb9f3a"
            ],
            [
             0.8888888888888888,
             "#fdca26"
            ],
            [
             1,
             "#f0f921"
            ]
           ]
          },
          "colorway": [
           "#636efa",
           "#EF553B",
           "#00cc96",
           "#ab63fa",
           "#FFA15A",
           "#19d3f3",
           "#FF6692",
           "#B6E880",
           "#FF97FF",
           "#FECB52"
          ],
          "font": {
           "color": "#2a3f5f"
          },
          "geo": {
           "bgcolor": "white",
           "lakecolor": "white",
           "landcolor": "#E5ECF6",
           "showlakes": true,
           "showland": true,
           "subunitcolor": "white"
          },
          "hoverlabel": {
           "align": "left"
          },
          "hovermode": "closest",
          "mapbox": {
           "style": "light"
          },
          "paper_bgcolor": "white",
          "plot_bgcolor": "#E5ECF6",
          "polar": {
           "angularaxis": {
            "gridcolor": "white",
            "linecolor": "white",
            "ticks": ""
           },
           "bgcolor": "#E5ECF6",
           "radialaxis": {
            "gridcolor": "white",
            "linecolor": "white",
            "ticks": ""
           }
          },
          "scene": {
           "xaxis": {
            "backgroundcolor": "#E5ECF6",
            "gridcolor": "white",
            "gridwidth": 2,
            "linecolor": "white",
            "showbackground": true,
            "ticks": "",
            "zerolinecolor": "white"
           },
           "yaxis": {
            "backgroundcolor": "#E5ECF6",
            "gridcolor": "white",
            "gridwidth": 2,
            "linecolor": "white",
            "showbackground": true,
            "ticks": "",
            "zerolinecolor": "white"
           },
           "zaxis": {
            "backgroundcolor": "#E5ECF6",
            "gridcolor": "white",
            "gridwidth": 2,
            "linecolor": "white",
            "showbackground": true,
            "ticks": "",
            "zerolinecolor": "white"
           }
          },
          "shapedefaults": {
           "line": {
            "color": "#2a3f5f"
           }
          },
          "ternary": {
           "aaxis": {
            "gridcolor": "white",
            "linecolor": "white",
            "ticks": ""
           },
           "baxis": {
            "gridcolor": "white",
            "linecolor": "white",
            "ticks": ""
           },
           "bgcolor": "#E5ECF6",
           "caxis": {
            "gridcolor": "white",
            "linecolor": "white",
            "ticks": ""
           }
          },
          "title": {
           "x": 0.05
          },
          "xaxis": {
           "automargin": true,
           "gridcolor": "white",
           "linecolor": "white",
           "ticks": "",
           "title": {
            "standoff": 15
           },
           "zerolinecolor": "white",
           "zerolinewidth": 2
          },
          "yaxis": {
           "automargin": true,
           "gridcolor": "white",
           "linecolor": "white",
           "ticks": "",
           "title": {
            "standoff": 15
           },
           "zerolinecolor": "white",
           "zerolinewidth": 2
          }
         }
        },
        "title": {
         "text": "3D Polynomial Regression: TV & Radio vs Sales"
        },
        "width": 800
       }
      },
      "text/html": [
       "<div>                            <div id=\"52cd252c-59b4-40fb-b9ce-38048bcc1efc\" class=\"plotly-graph-div\" style=\"height:700px; width:800px;\"></div>            <script type=\"text/javascript\">                require([\"plotly\"], function(Plotly) {                    window.PLOTLYENV=window.PLOTLYENV || {};                                    if (document.getElementById(\"52cd252c-59b4-40fb-b9ce-38048bcc1efc\")) {                    Plotly.newPlot(                        \"52cd252c-59b4-40fb-b9ce-38048bcc1efc\",                        [{\"marker\":{\"color\":\"blue\",\"opacity\":0.6,\"size\":6},\"mode\":\"markers\",\"name\":\"Training Data\",\"x\":[193.2,287.6,80.2,182.6,222.4,250.9,187.8,78.2,125.7,131.1,234.5,62.3,286.0,76.4,97.5,216.4,85.7,243.2,7.3,232.1,280.7,131.7,56.2,205.0,166.8,240.1,17.2,206.8,238.2,177.0,28.6,237.4,48.3,70.6,197.6,141.3,89.7,120.5,136.2,75.3,139.3,289.7,116.0,36.9,228.3,237.4,13.1,197.6,296.4,170.2,88.3,57.5,100.4,248.4,191.1,216.8,204.1,265.2,213.5,218.5,151.5,172.5,290.7,107.4,209.6,184.9,123.1,283.6,217.7,210.8,0.7,239.9,17.9,142.9,224.0,76.3,163.5,218.4,121.0,66.1,292.9,164.5,229.5,184.9,281.4,253.8,25.0,139.2,230.1,168.4,104.6,93.9,109.8,240.1,129.4,43.1,187.9,284.3,120.2,18.7,248.8,135.2,239.3,8.6,137.9,220.3,149.7,90.4,27.5,43.0,7.8,147.3,26.8,25.1,188.4,210.7,276.7,149.8,75.1,25.6,241.7,68.4,66.9,75.5,73.4,8.7,225.8,53.5,215.4,38.2,8.4,202.5,273.7,16.9,110.7,102.7,199.1,239.8,214.7,163.3],\"y\":[18.4,43.0,0.0,46.2,4.3,36.5,21.1,46.8,36.9,42.8,3.4,12.6,13.9,0.8,7.6,41.7,35.8,49.0,28.1,8.6,13.9,18.4,5.7,45.1,42.0,16.7,4.1,5.2,34.3,9.3,1.5,5.1,47.0,16.0,3.5,26.8,9.9,28.5,19.2,20.3,14.5,42.3,7.7,38.6,16.9,27.5,0.4,23.3,36.3,7.8,25.5,32.8,9.6,30.2,28.7,43.9,32.9,2.9,43.0,5.4,41.3,18.1,4.1,14.0,20.6,43.9,34.6,42.0,33.5,49.6,39.6,41.5,37.6,29.3,2.4,27.5,36.8,27.7,8.4,5.8,28.3,20.9,32.3,21.0,39.6,21.3,11.0,14.3,37.8,7.1,5.7,43.5,14.3,7.3,5.7,26.7,17.2,10.6,19.6,12.1,27.1,41.7,15.5,2.1,46.4,49.0,35.6,0.3,1.6,25.9,38.9,23.9,33.0,25.7,18.1,29.5,2.3,1.3,35.0,39.0,38.0,44.5,11.7,10.8,17.0,48.9,8.2,2.0,23.6,3.7,27.2,22.3,28.9,43.7,40.6,29.6,30.6,4.1,24.0,31.6],\"z\":[15.2,26.2,8.8,21.2,11.7,22.2,15.6,14.6,15.9,18.0,11.9,9.7,15.9,9.4,9.7,22.6,13.3,25.4,5.5,13.4,16.1,12.9,8.7,22.6,19.6,15.9,5.9,12.2,20.7,12.8,7.3,12.5,11.6,10.5,11.7,15.5,10.6,14.2,13.2,11.3,13.4,25.4,11.0,10.8,15.5,18.9,5.3,16.6,23.8,11.7,12.9,11.8,10.7,20.2,17.3,22.3,19.0,12.7,21.7,12.2,18.5,14.4,12.8,11.5,15.9,20.7,15.2,25.5,19.4,23.8,1.6,23.2,8.0,15.0,11.6,12.0,18.0,18.0,11.6,8.6,21.4,14.5,19.7,15.5,24.4,17.6,7.2,12.2,22.1,11.7,10.4,15.3,12.4,13.2,11.0,10.1,14.7,15.0,13.2,6.7,18.9,17.2,15.7,4.8,19.2,24.7,17.3,8.7,6.9,9.6,6.6,14.6,8.8,8.5,14.9,18.4,11.8,10.1,12.6,9.5,21.8,13.6,9.7,9.9,10.9,7.2,13.4,8.1,17.1,7.6,5.7,16.6,20.8,8.7,16.0,14.0,18.3,12.3,17.4,16.9],\"type\":\"scatter3d\"},{\"marker\":{\"color\":\"red\",\"opacity\":0.8,\"size\":6},\"mode\":\"markers\",\"name\":\"Testing Data\",\"x\":[74.7,255.4,112.9,109.8,31.5,19.4,262.7,213.4,140.3,220.5,38.0,175.7,222.4,198.9,193.7,44.7,262.9,95.7,50.0,228.0,19.6,171.3,276.9,261.3,69.0,199.8,293.6,59.6,165.6,17.2,23.8,219.8,134.3,13.2,177.0,97.2,87.2,94.2,11.7,156.6,67.8,139.5,96.2,18.8,76.4,69.2,5.4,227.2,180.8,195.4,44.5,206.9,280.2,117.2,199.8,4.1,266.9,39.5,265.6,175.1],\"y\":[49.4,26.9,17.4,47.8,24.6,16.0,28.8,24.6,1.9,33.2,40.3,15.4,3.4,49.4,35.4,25.8,3.5,1.4,11.6,37.7,20.1,39.7,48.9,42.7,9.3,3.1,27.7,12.0,10.0,45.9,35.1,33.5,4.9,15.9,33.4,1.5,11.8,4.9,36.9,2.6,36.6,2.1,14.8,21.7,26.7,20.5,29.9,15.8,10.8,47.7,39.3,8.4,10.1,14.7,2.6,11.6,43.8,41.1,20.0,22.5],\"z\":[14.7,19.8,11.9,16.7,9.5,6.6,20.2,17.0,10.3,20.1,10.9,14.1,11.5,23.7,19.2,10.1,12.0,9.5,8.4,21.5,7.6,19.0,27.0,24.2,9.3,11.4,20.7,9.7,12.6,9.3,9.2,19.6,11.2,5.6,17.1,9.6,10.6,9.7,7.3,10.5,12.5,10.3,11.4,7.0,11.8,11.3,5.3,14.8,12.9,22.4,10.4,12.9,14.8,11.9,10.6,3.2,25.4,10.8,17.4,14.9],\"type\":\"scatter3d\"},{\"marker\":{\"color\":\"green\",\"opacity\":0.9,\"size\":8,\"symbol\":\"x\"},\"mode\":\"markers\",\"name\":\"Predicted Test Data\",\"x\":[74.7,255.4,112.9,109.8,31.5,19.4,262.7,213.4,140.3,220.5,38.0,175.7,222.4,198.9,193.7,44.7,262.9,95.7,50.0,228.0,19.6,171.3,276.9,261.3,69.0,199.8,293.6,59.6,165.6,17.2,23.8,219.8,134.3,13.2,177.0,97.2,87.2,94.2,11.7,156.6,67.8,139.5,96.2,18.8,76.4,69.2,5.4,227.2,180.8,195.4,44.5,206.9,280.2,117.2,199.8,4.1,266.9,39.5,265.6,175.1],\"y\":[49.4,26.9,17.4,47.8,24.6,16.0,28.8,24.6,1.9,33.2,40.3,15.4,3.4,49.4,35.4,25.8,3.5,1.4,11.6,37.7,20.1,39.7,48.9,42.7,9.3,3.1,27.7,12.0,10.0,45.9,35.1,33.5,4.9,15.9,33.4,1.5,11.8,4.9,36.9,2.6,36.6,2.1,14.8,21.7,26.7,20.5,29.9,15.8,10.8,47.7,39.3,8.4,10.1,14.7,2.6,11.6,43.8,41.1,20.0,22.5],\"z\":[13.948561528699305,19.334802620100202,12.31928162239089,16.76286336614094,7.902109010045834,6.941437924726727,20.133726933154463,17.500927092294333,10.568890003905327,20.12551788123087,9.446145373120007,14.099354174333593,12.0551349318533,23.39254049436959,19.67508393385954,9.156262576656985,12.11637319994373,9.28149557203054,8.446040066104695,21.655881289215017,7.050703311706631,19.358542084089567,27.267163690767106,24.586893459019905,9.031794210479042,11.810702321904646,20.426301251985205,9.193906385268896,12.747951856994586,8.64340674289624,8.662941509963488,20.200473769702413,10.93673816948871,6.846391291305323,18.279393593343983,9.476594487784116,10.342421449061911,9.66570379793225,7.43347914862946,11.035613320241994,12.657310132847606,10.65459946036114,11.20971495772265,7.461990228029478,11.382249824372149,10.273312620473638,6.155732511083627,15.508933618096853,13.360928890338295,22.718392767634427,10.40389682125312,13.216227010533121,14.236222068805857,11.872367704368251,11.684636156857056,5.622177384020163,25.037789134188678,9.535077337562415,17.37926571365701,15.753436400330628],\"type\":\"scatter3d\"},{\"colorscale\":[[0.0,\"#440154\"],[0.1111111111111111,\"#482878\"],[0.2222222222222222,\"#3e4989\"],[0.3333333333333333,\"#31688e\"],[0.4444444444444444,\"#26828e\"],[0.5555555555555556,\"#1f9e89\"],[0.6666666666666666,\"#35b779\"],[0.7777777777777778,\"#6ece58\"],[0.8888888888888888,\"#b5de2b\"],[1.0,\"#fde725\"]],\"name\":\"Regression Plane\",\"opacity\":0.5,\"showscale\":false,\"x\":[[0.7,33.55555555555556,66.41111111111111,99.26666666666667,132.1222222222222,164.97777777777776,197.83333333333331,230.68888888888887,263.5444444444444,296.4],[0.7,33.55555555555556,66.41111111111111,99.26666666666667,132.1222222222222,164.97777777777776,197.83333333333331,230.68888888888887,263.5444444444444,296.4],[0.7,33.55555555555556,66.41111111111111,99.26666666666667,132.1222222222222,164.97777777777776,197.83333333333331,230.68888888888887,263.5444444444444,296.4],[0.7,33.55555555555556,66.41111111111111,99.26666666666667,132.1222222222222,164.97777777777776,197.83333333333331,230.68888888888887,263.5444444444444,296.4],[0.7,33.55555555555556,66.41111111111111,99.26666666666667,132.1222222222222,164.97777777777776,197.83333333333331,230.68888888888887,263.5444444444444,296.4],[0.7,33.55555555555556,66.41111111111111,99.26666666666667,132.1222222222222,164.97777777777776,197.83333333333331,230.68888888888887,263.5444444444444,296.4],[0.7,33.55555555555556,66.41111111111111,99.26666666666667,132.1222222222222,164.97777777777776,197.83333333333331,230.68888888888887,263.5444444444444,296.4],[0.7,33.55555555555556,66.41111111111111,99.26666666666667,132.1222222222222,164.97777777777776,197.83333333333331,230.68888888888887,263.5444444444444,296.4],[0.7,33.55555555555556,66.41111111111111,99.26666666666667,132.1222222222222,164.97777777777776,197.83333333333331,230.68888888888887,263.5444444444444,296.4],[0.7,33.55555555555556,66.41111111111111,99.26666666666667,132.1222222222222,164.97777777777776,197.83333333333331,230.68888888888887,263.5444444444444,296.4]],\"y\":[[0.0,0.0,0.0,0.0,0.0,0.0,0.0,0.0,0.0,0.0],[5.511111111111111,5.511111111111111,5.511111111111111,5.511111111111111,5.511111111111111,5.511111111111111,5.511111111111111,5.511111111111111,5.511111111111111,5.511111111111111],[11.022222222222222,11.022222222222222,11.022222222222222,11.022222222222222,11.022222222222222,11.022222222222222,11.022222222222222,11.022222222222222,11.022222222222222,11.022222222222222],[16.53333333333333,16.53333333333333,16.53333333333333,16.53333333333333,16.53333333333333,16.53333333333333,16.53333333333333,16.53333333333333,16.53333333333333,16.53333333333333],[22.044444444444444,22.044444444444444,22.044444444444444,22.044444444444444,22.044444444444444,22.044444444444444,22.044444444444444,22.044444444444444,22.044444444444444,22.044444444444444],[27.555555555555557,27.555555555555557,27.555555555555557,27.555555555555557,27.555555555555557,27.555555555555557,27.555555555555557,27.555555555555557,27.555555555555557,27.555555555555557],[33.06666666666666,33.06666666666666,33.06666666666666,33.06666666666666,33.06666666666666,33.06666666666666,33.06666666666666,33.06666666666666,33.06666666666666,33.06666666666666],[38.577777777777776,38.577777777777776,38.577777777777776,38.577777777777776,38.577777777777776,38.577777777777776,38.577777777777776,38.577777777777776,38.577777777777776,38.577777777777776],[44.08888888888889,44.08888888888889,44.08888888888889,44.08888888888889,44.08888888888889,44.08888888888889,44.08888888888889,44.08888888888889,44.08888888888889,44.08888888888889],[49.6,49.6,49.6,49.6,49.6,49.6,49.6,49.6,49.6,49.6]],\"z\":[[5.498780466225774,7.020306868504642,8.302419185725865,9.345117417889444,10.148401564995378,10.71227162704367,11.036727604034313,11.121769495967316,10.967397302842672,10.573611024660385],[5.600964496643641,7.329296491116645,8.818214400532005,10.06771822488972,11.077807964189791,11.848483618432219,12.379745187617003,12.67159267174414,12.724026070813634,12.53704538482548],[5.70518298666849,7.6403205733356305,9.336044074945129,10.792353491496979,12.009248822991188,12.98673006942775,13.724797230806669,14.223450307127946,14.482689298391572,14.50251420459756],[5.81143593630032,7.953379115161598,9.85590820896523,11.51902321771122,12.942724141399566,14.127010980030265,15.07188373360332,15.77734240211873,16.243386985576496,16.47001748397662],[5.919723345539132,8.268472116594547,10.377806802592318,12.247727403532442,13.878233919414923,15.269326350239762,16.421004696006953,17.333268956716502,18.006119132368404,18.43955522296266],[6.030045214384927,8.58559957763448,10.901739855826385,12.978466048960648,14.815778157037265,16.41367618005624,17.772160118017567,18.891229970921252,19.77088573876729,20.41112742155569],[6.142401542837702,8.904761498281392,11.427707368667434,13.711239153995834,15.755356854266589,17.5600604694797,19.125349999635162,20.451225444732984,21.53768680477316,22.384734079755695],[6.256792330897461,9.225957878535286,11.955709341115465,14.446046718638005,16.69697001110289,18.708479218510142,20.480574340859746,22.013255378151705,23.306522330386017,24.360375197562682],[6.373217578564201,9.549188718396163,12.48574577317048,15.182888742887153,17.640617627546185,19.858932427147565,21.837833141691306,23.5773197711774,25.07739231560585,26.338050774976658],[6.491677285837923,9.874454017864021,13.017816664832477,15.921765226743286,18.586299703596453,21.01142009539197,23.197126402129847,25.143418623810078,26.85029676043267,28.31776081199761]],\"type\":\"surface\"}],                        {\"template\":{\"data\":{\"bar\":[{\"error_x\":{\"color\":\"#2a3f5f\"},\"error_y\":{\"color\":\"#2a3f5f\"},\"marker\":{\"line\":{\"color\":\"#E5ECF6\",\"width\":0.5},\"pattern\":{\"fillmode\":\"overlay\",\"size\":10,\"solidity\":0.2}},\"type\":\"bar\"}],\"barpolar\":[{\"marker\":{\"line\":{\"color\":\"#E5ECF6\",\"width\":0.5},\"pattern\":{\"fillmode\":\"overlay\",\"size\":10,\"solidity\":0.2}},\"type\":\"barpolar\"}],\"carpet\":[{\"aaxis\":{\"endlinecolor\":\"#2a3f5f\",\"gridcolor\":\"white\",\"linecolor\":\"white\",\"minorgridcolor\":\"white\",\"startlinecolor\":\"#2a3f5f\"},\"baxis\":{\"endlinecolor\":\"#2a3f5f\",\"gridcolor\":\"white\",\"linecolor\":\"white\",\"minorgridcolor\":\"white\",\"startlinecolor\":\"#2a3f5f\"},\"type\":\"carpet\"}],\"choropleth\":[{\"colorbar\":{\"outlinewidth\":0,\"ticks\":\"\"},\"type\":\"choropleth\"}],\"contour\":[{\"colorbar\":{\"outlinewidth\":0,\"ticks\":\"\"},\"colorscale\":[[0.0,\"#0d0887\"],[0.1111111111111111,\"#46039f\"],[0.2222222222222222,\"#7201a8\"],[0.3333333333333333,\"#9c179e\"],[0.4444444444444444,\"#bd3786\"],[0.5555555555555556,\"#d8576b\"],[0.6666666666666666,\"#ed7953\"],[0.7777777777777778,\"#fb9f3a\"],[0.8888888888888888,\"#fdca26\"],[1.0,\"#f0f921\"]],\"type\":\"contour\"}],\"contourcarpet\":[{\"colorbar\":{\"outlinewidth\":0,\"ticks\":\"\"},\"type\":\"contourcarpet\"}],\"heatmap\":[{\"colorbar\":{\"outlinewidth\":0,\"ticks\":\"\"},\"colorscale\":[[0.0,\"#0d0887\"],[0.1111111111111111,\"#46039f\"],[0.2222222222222222,\"#7201a8\"],[0.3333333333333333,\"#9c179e\"],[0.4444444444444444,\"#bd3786\"],[0.5555555555555556,\"#d8576b\"],[0.6666666666666666,\"#ed7953\"],[0.7777777777777778,\"#fb9f3a\"],[0.8888888888888888,\"#fdca26\"],[1.0,\"#f0f921\"]],\"type\":\"heatmap\"}],\"heatmapgl\":[{\"colorbar\":{\"outlinewidth\":0,\"ticks\":\"\"},\"colorscale\":[[0.0,\"#0d0887\"],[0.1111111111111111,\"#46039f\"],[0.2222222222222222,\"#7201a8\"],[0.3333333333333333,\"#9c179e\"],[0.4444444444444444,\"#bd3786\"],[0.5555555555555556,\"#d8576b\"],[0.6666666666666666,\"#ed7953\"],[0.7777777777777778,\"#fb9f3a\"],[0.8888888888888888,\"#fdca26\"],[1.0,\"#f0f921\"]],\"type\":\"heatmapgl\"}],\"histogram\":[{\"marker\":{\"pattern\":{\"fillmode\":\"overlay\",\"size\":10,\"solidity\":0.2}},\"type\":\"histogram\"}],\"histogram2d\":[{\"colorbar\":{\"outlinewidth\":0,\"ticks\":\"\"},\"colorscale\":[[0.0,\"#0d0887\"],[0.1111111111111111,\"#46039f\"],[0.2222222222222222,\"#7201a8\"],[0.3333333333333333,\"#9c179e\"],[0.4444444444444444,\"#bd3786\"],[0.5555555555555556,\"#d8576b\"],[0.6666666666666666,\"#ed7953\"],[0.7777777777777778,\"#fb9f3a\"],[0.8888888888888888,\"#fdca26\"],[1.0,\"#f0f921\"]],\"type\":\"histogram2d\"}],\"histogram2dcontour\":[{\"colorbar\":{\"outlinewidth\":0,\"ticks\":\"\"},\"colorscale\":[[0.0,\"#0d0887\"],[0.1111111111111111,\"#46039f\"],[0.2222222222222222,\"#7201a8\"],[0.3333333333333333,\"#9c179e\"],[0.4444444444444444,\"#bd3786\"],[0.5555555555555556,\"#d8576b\"],[0.6666666666666666,\"#ed7953\"],[0.7777777777777778,\"#fb9f3a\"],[0.8888888888888888,\"#fdca26\"],[1.0,\"#f0f921\"]],\"type\":\"histogram2dcontour\"}],\"mesh3d\":[{\"colorbar\":{\"outlinewidth\":0,\"ticks\":\"\"},\"type\":\"mesh3d\"}],\"parcoords\":[{\"line\":{\"colorbar\":{\"outlinewidth\":0,\"ticks\":\"\"}},\"type\":\"parcoords\"}],\"pie\":[{\"automargin\":true,\"type\":\"pie\"}],\"scatter\":[{\"marker\":{\"colorbar\":{\"outlinewidth\":0,\"ticks\":\"\"}},\"type\":\"scatter\"}],\"scatter3d\":[{\"line\":{\"colorbar\":{\"outlinewidth\":0,\"ticks\":\"\"}},\"marker\":{\"colorbar\":{\"outlinewidth\":0,\"ticks\":\"\"}},\"type\":\"scatter3d\"}],\"scattercarpet\":[{\"marker\":{\"colorbar\":{\"outlinewidth\":0,\"ticks\":\"\"}},\"type\":\"scattercarpet\"}],\"scattergeo\":[{\"marker\":{\"colorbar\":{\"outlinewidth\":0,\"ticks\":\"\"}},\"type\":\"scattergeo\"}],\"scattergl\":[{\"marker\":{\"colorbar\":{\"outlinewidth\":0,\"ticks\":\"\"}},\"type\":\"scattergl\"}],\"scattermapbox\":[{\"marker\":{\"colorbar\":{\"outlinewidth\":0,\"ticks\":\"\"}},\"type\":\"scattermapbox\"}],\"scatterpolar\":[{\"marker\":{\"colorbar\":{\"outlinewidth\":0,\"ticks\":\"\"}},\"type\":\"scatterpolar\"}],\"scatterpolargl\":[{\"marker\":{\"colorbar\":{\"outlinewidth\":0,\"ticks\":\"\"}},\"type\":\"scatterpolargl\"}],\"scatterternary\":[{\"marker\":{\"colorbar\":{\"outlinewidth\":0,\"ticks\":\"\"}},\"type\":\"scatterternary\"}],\"surface\":[{\"colorbar\":{\"outlinewidth\":0,\"ticks\":\"\"},\"colorscale\":[[0.0,\"#0d0887\"],[0.1111111111111111,\"#46039f\"],[0.2222222222222222,\"#7201a8\"],[0.3333333333333333,\"#9c179e\"],[0.4444444444444444,\"#bd3786\"],[0.5555555555555556,\"#d8576b\"],[0.6666666666666666,\"#ed7953\"],[0.7777777777777778,\"#fb9f3a\"],[0.8888888888888888,\"#fdca26\"],[1.0,\"#f0f921\"]],\"type\":\"surface\"}],\"table\":[{\"cells\":{\"fill\":{\"color\":\"#EBF0F8\"},\"line\":{\"color\":\"white\"}},\"header\":{\"fill\":{\"color\":\"#C8D4E3\"},\"line\":{\"color\":\"white\"}},\"type\":\"table\"}]},\"layout\":{\"annotationdefaults\":{\"arrowcolor\":\"#2a3f5f\",\"arrowhead\":0,\"arrowwidth\":1},\"autotypenumbers\":\"strict\",\"coloraxis\":{\"colorbar\":{\"outlinewidth\":0,\"ticks\":\"\"}},\"colorscale\":{\"diverging\":[[0,\"#8e0152\"],[0.1,\"#c51b7d\"],[0.2,\"#de77ae\"],[0.3,\"#f1b6da\"],[0.4,\"#fde0ef\"],[0.5,\"#f7f7f7\"],[0.6,\"#e6f5d0\"],[0.7,\"#b8e186\"],[0.8,\"#7fbc41\"],[0.9,\"#4d9221\"],[1,\"#276419\"]],\"sequential\":[[0.0,\"#0d0887\"],[0.1111111111111111,\"#46039f\"],[0.2222222222222222,\"#7201a8\"],[0.3333333333333333,\"#9c179e\"],[0.4444444444444444,\"#bd3786\"],[0.5555555555555556,\"#d8576b\"],[0.6666666666666666,\"#ed7953\"],[0.7777777777777778,\"#fb9f3a\"],[0.8888888888888888,\"#fdca26\"],[1.0,\"#f0f921\"]],\"sequentialminus\":[[0.0,\"#0d0887\"],[0.1111111111111111,\"#46039f\"],[0.2222222222222222,\"#7201a8\"],[0.3333333333333333,\"#9c179e\"],[0.4444444444444444,\"#bd3786\"],[0.5555555555555556,\"#d8576b\"],[0.6666666666666666,\"#ed7953\"],[0.7777777777777778,\"#fb9f3a\"],[0.8888888888888888,\"#fdca26\"],[1.0,\"#f0f921\"]]},\"colorway\":[\"#636efa\",\"#EF553B\",\"#00cc96\",\"#ab63fa\",\"#FFA15A\",\"#19d3f3\",\"#FF6692\",\"#B6E880\",\"#FF97FF\",\"#FECB52\"],\"font\":{\"color\":\"#2a3f5f\"},\"geo\":{\"bgcolor\":\"white\",\"lakecolor\":\"white\",\"landcolor\":\"#E5ECF6\",\"showlakes\":true,\"showland\":true,\"subunitcolor\":\"white\"},\"hoverlabel\":{\"align\":\"left\"},\"hovermode\":\"closest\",\"mapbox\":{\"style\":\"light\"},\"paper_bgcolor\":\"white\",\"plot_bgcolor\":\"#E5ECF6\",\"polar\":{\"angularaxis\":{\"gridcolor\":\"white\",\"linecolor\":\"white\",\"ticks\":\"\"},\"bgcolor\":\"#E5ECF6\",\"radialaxis\":{\"gridcolor\":\"white\",\"linecolor\":\"white\",\"ticks\":\"\"}},\"scene\":{\"xaxis\":{\"backgroundcolor\":\"#E5ECF6\",\"gridcolor\":\"white\",\"gridwidth\":2,\"linecolor\":\"white\",\"showbackground\":true,\"ticks\":\"\",\"zerolinecolor\":\"white\"},\"yaxis\":{\"backgroundcolor\":\"#E5ECF6\",\"gridcolor\":\"white\",\"gridwidth\":2,\"linecolor\":\"white\",\"showbackground\":true,\"ticks\":\"\",\"zerolinecolor\":\"white\"},\"zaxis\":{\"backgroundcolor\":\"#E5ECF6\",\"gridcolor\":\"white\",\"gridwidth\":2,\"linecolor\":\"white\",\"showbackground\":true,\"ticks\":\"\",\"zerolinecolor\":\"white\"}},\"shapedefaults\":{\"line\":{\"color\":\"#2a3f5f\"}},\"ternary\":{\"aaxis\":{\"gridcolor\":\"white\",\"linecolor\":\"white\",\"ticks\":\"\"},\"baxis\":{\"gridcolor\":\"white\",\"linecolor\":\"white\",\"ticks\":\"\"},\"bgcolor\":\"#E5ECF6\",\"caxis\":{\"gridcolor\":\"white\",\"linecolor\":\"white\",\"ticks\":\"\"}},\"title\":{\"x\":0.05},\"xaxis\":{\"automargin\":true,\"gridcolor\":\"white\",\"linecolor\":\"white\",\"ticks\":\"\",\"title\":{\"standoff\":15},\"zerolinecolor\":\"white\",\"zerolinewidth\":2},\"yaxis\":{\"automargin\":true,\"gridcolor\":\"white\",\"linecolor\":\"white\",\"ticks\":\"\",\"title\":{\"standoff\":15},\"zerolinecolor\":\"white\",\"zerolinewidth\":2}}},\"title\":{\"text\":\"3D Polynomial Regression: TV & Radio vs Sales\"},\"scene\":{\"xaxis\":{\"title\":{\"text\":\"TV Spend\"}},\"yaxis\":{\"title\":{\"text\":\"Radio Spend\"}},\"zaxis\":{\"title\":{\"text\":\"Sales\"}}},\"width\":800,\"height\":700},                        {\"responsive\": true}                    ).then(function(){\n",
       "                            \n",
       "var gd = document.getElementById('52cd252c-59b4-40fb-b9ce-38048bcc1efc');\n",
       "var x = new MutationObserver(function (mutations, observer) {{\n",
       "        var display = window.getComputedStyle(gd).display;\n",
       "        if (!display || display === 'none') {{\n",
       "            console.log([gd, 'removed!']);\n",
       "            Plotly.purge(gd);\n",
       "            observer.disconnect();\n",
       "        }}\n",
       "}});\n",
       "\n",
       "// Listen for the removal of the full notebook cells\n",
       "var notebookContainer = gd.closest('#notebook-container');\n",
       "if (notebookContainer) {{\n",
       "    x.observe(notebookContainer, {childList: true});\n",
       "}}\n",
       "\n",
       "// Listen for the clearing of the current output cell\n",
       "var outputEl = gd.closest('.output');\n",
       "if (outputEl) {{\n",
       "    x.observe(outputEl, {childList: true});\n",
       "}}\n",
       "\n",
       "                        })                };                });            </script>        </div>"
      ]
     },
     "metadata": {},
     "output_type": "display_data"
    }
   ],
   "source": [
    "\n",
    "# --- 3D PLOT: TV vs. Radio vs. Sales ---\n",
    "fig = go.Figure()\n",
    "\n",
    "# Add actual training data points\n",
    "fig.add_trace(go.Scatter3d(\n",
    "    x=X_train[:, 0], y=X_train[:, 1], z=y_train,\n",
    "    mode='markers', marker=dict(size=6, color='blue', opacity=0.6),\n",
    "    name='Training Data'\n",
    "))\n",
    "\n",
    "# Add actual testing data points\n",
    "fig.add_trace(go.Scatter3d(\n",
    "    x=X_test[:, 0], y=X_test[:, 1], z=y_test,\n",
    "    mode='markers', marker=dict(size=6, color='red', opacity=0.8),\n",
    "    name='Testing Data'\n",
    "))\n",
    "\n",
    "# Add predicted test data points\n",
    "fig.add_trace(go.Scatter3d(\n",
    "    x=X_test[:, 0], y=X_test[:, 1], z=y_pred,\n",
    "    mode='markers', marker=dict(size=8, color='green', symbol='x', opacity=0.9),\n",
    "    name='Predicted Test Data'\n",
    "))\n",
    "\n",
    "# Generate polynomial regression surface\n",
    "tv_range = np.linspace(X['TV'].min(), X['TV'].max(), 10)\n",
    "radio_range = np.linspace(X['radio'].min(), X['radio'].max(), 10)\n",
    "tv_grid, radio_grid = np.meshgrid(tv_range, radio_range)\n",
    "\n",
    "# Create polynomial features for the grid\n",
    "grid_features = np.c_[tv_grid.ravel(), radio_grid.ravel(), np.full_like(tv_grid.ravel(), X['newspaper'].mean())]\n",
    "grid_features_poly = poly_converter.transform(grid_features)\n",
    "\n",
    "# Predict sales for the regression plane\n",
    "sales_grid = poly_model.predict(grid_features_poly).reshape(tv_grid.shape)\n",
    "\n",
    "# Add regression surface\n",
    "fig.add_trace(go.Surface(\n",
    "    x=tv_grid, y=radio_grid, z=sales_grid,\n",
    "    colorscale='Viridis', opacity=0.5, showscale=False,\n",
    "    name='Regression Plane'\n",
    "))\n",
    "\n",
    "# Update layout\n",
    "fig.update_layout(\n",
    "    title=\"3D Polynomial Regression: TV & Radio vs Sales\",\n",
    "    scene=dict(\n",
    "        xaxis_title=\"TV Spend\",\n",
    "        yaxis_title=\"Radio Spend\",\n",
    "        zaxis_title=\"Sales\"\n",
    "    ),\n",
    "    width=800,\n",
    "    height=700\n",
    ")\n",
    "\n",
    "# Show interactive 3D plot\n",
    "fig.show()\n"
   ]
  },
  {
   "cell_type": "code",
   "execution_count": 30,
   "id": "d1616835",
   "metadata": {},
   "outputs": [],
   "source": [
    "from sklearn.metrics import mean_absolute_error,mean_squared_error"
   ]
  },
  {
   "cell_type": "code",
   "execution_count": 31,
   "id": "c6ad1ca2",
   "metadata": {},
   "outputs": [],
   "source": [
    "mae = mean_absolute_error(y_test,y_prediction)\n",
    "mse = mean_squared_error(y_test,y_prediction)\n",
    "rmse = np.sqrt(mse)"
   ]
  },
  {
   "cell_type": "code",
   "execution_count": 32,
   "id": "3d363ab7",
   "metadata": {},
   "outputs": [
    {
     "data": {
      "text/plain": [
       "0.48967980448037"
      ]
     },
     "execution_count": 32,
     "metadata": {},
     "output_type": "execute_result"
    }
   ],
   "source": [
    "mae"
   ]
  },
  {
   "cell_type": "code",
   "execution_count": 33,
   "id": "cda959b3",
   "metadata": {},
   "outputs": [
    {
     "data": {
      "text/plain": [
       "0.4417505510403648"
      ]
     },
     "execution_count": 33,
     "metadata": {},
     "output_type": "execute_result"
    }
   ],
   "source": [
    "mse"
   ]
  }
 ],
 "metadata": {
  "kernelspec": {
   "display_name": "Python 3 (ipykernel)",
   "language": "python",
   "name": "python3"
  },
  "language_info": {
   "codemirror_mode": {
    "name": "ipython",
    "version": 3
   },
   "file_extension": ".py",
   "mimetype": "text/x-python",
   "name": "python",
   "nbconvert_exporter": "python",
   "pygments_lexer": "ipython3",
   "version": "3.9.12"
  }
 },
 "nbformat": 4,
 "nbformat_minor": 5
}
